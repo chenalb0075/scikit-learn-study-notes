{
 "cells": [
  {
   "cell_type": "markdown",
   "metadata": {},
   "source": [
    "# Use datasets come along with scikit-learn to get familiar with different kind of learning models"
   ]
  },
  {
   "cell_type": "markdown",
   "metadata": {},
   "source": [
    "## use breast_cancer dataset to fit LogisticRegression model, using PCA technique to reduce features and StandardScaler to normalize features"
   ]
  },
  {
   "cell_type": "code",
   "execution_count": 91,
   "metadata": {},
   "outputs": [],
   "source": [
    "# Load general modules/libs that will be used for every case. Special modules will be loaded in separate cases specifically.\n",
    "import pandas as pd\n",
    "import numpy as np\n",
    "from sklearn import datasets\n",
    "import matplotlib.pyplot as plt\n"
   ]
  },
  {
   "cell_type": "code",
   "execution_count": null,
   "metadata": {},
   "outputs": [],
   "source": [
    "Bdata = datasets.load_breast_cancer()\n",
    "X = Bdata.data\n",
    "y = Bdata.target"
   ]
  },
  {
   "cell_type": "code",
   "execution_count": 3,
   "metadata": {},
   "outputs": [],
   "source": [
    "# split dataset into training and testing datasets\n",
    "from sklearn.model_selection import train_test_split\n",
    "X_train, X_test, y_train, y_test = train_test_split (X, y, test_size = 0.3, random_state = 1, stratify = y)"
   ]
  },
  {
   "cell_type": "code",
   "execution_count": 11,
   "metadata": {},
   "outputs": [],
   "source": [
    "# do data scaling\n",
    "from sklearn.preprocessing import StandardScaler\n",
    "SC = StandardScaler()\n",
    "X_train_scaled = SC.fit_transform(X_train)\n",
    "X_test_scaled = SC.transform(X_test)"
   ]
  },
  {
   "cell_type": "code",
   "execution_count": 15,
   "metadata": {},
   "outputs": [],
   "source": [
    "# feature selection\n",
    "from sklearn.decomposition import PCA\n",
    "pca = PCA(n_components=10)\n",
    "X_train_PCA = pca.fit_transform(X_train_scaled)\n",
    "X_test_PCA = pca.transform(X_test_scaled)"
   ]
  },
  {
   "cell_type": "code",
   "execution_count": 23,
   "metadata": {},
   "outputs": [
    {
     "data": {
      "text/plain": [
       "LogisticRegression(class_weight='balanced', max_iter=10000, random_state=1,\n",
       "                   solver='sag', tol=0.0003)"
      ]
     },
     "execution_count": 23,
     "metadata": {},
     "output_type": "execute_result"
    }
   ],
   "source": [
    "# train LogisticRegression model\n",
    "from sklearn.linear_model import LogisticRegression\n",
    "LR = LogisticRegression(penalty='l2', dual=False, tol=0.0003, C=1.0, fit_intercept=True, intercept_scaling=1,\n",
    "                        class_weight=\"balanced\", random_state=1, solver='sag', max_iter=10000, multi_class='auto',\n",
    "                        verbose=0, warm_start=False, n_jobs=None, l1_ratio=None)\n",
    "LR.fit(X_train_PCA, y_train)"
   ]
  },
  {
   "cell_type": "code",
   "execution_count": 7,
   "metadata": {},
   "outputs": [
    {
     "data": {
      "text/plain": [
       "0.9649122807017544"
      ]
     },
     "execution_count": 7,
     "metadata": {},
     "output_type": "execute_result"
    }
   ],
   "source": [
    "# model metrics\n",
    "import sklearn.metrics as metrics\n",
    "y_pred = LR.predict(X_test_PCA)\n",
    "y_true = y_test\n",
    "metrics.accuracy_score (y_true, y_pred)"
   ]
  },
  {
   "cell_type": "markdown",
   "metadata": {},
   "source": [
    "## use SVM model"
   ]
  },
  {
   "cell_type": "code",
   "execution_count": 14,
   "metadata": {},
   "outputs": [
    {
     "name": "stderr",
     "output_type": "stream",
     "text": [
      "d:\\ProgramData\\envs\\python310\\lib\\site-packages\\sklearn\\svm\\_base.py:1206: ConvergenceWarning: Liblinear failed to converge, increase the number of iterations.\n",
      "  warnings.warn(\n"
     ]
    },
    {
     "data": {
      "text/plain": [
       "LinearSVC(random_state=1)"
      ]
     },
     "execution_count": 14,
     "metadata": {},
     "output_type": "execute_result"
    }
   ],
   "source": [
    "# import linear support vector classifier (SVC)\n",
    "from sklearn.svm import LinearSVC\n",
    "LS = LinearSVC(penalty='l2', loss='squared_hinge', dual=True, tol=0.0001, C=1.0, multi_class='ovr', fit_intercept=True, intercept_scaling=1,\n",
    "               class_weight=None, verbose=0, random_state=1, max_iter=1000)\n",
    "LS.fit(X_train_PCA, y_train)"
   ]
  },
  {
   "cell_type": "code",
   "execution_count": 17,
   "metadata": {},
   "outputs": [
    {
     "data": {
      "text/plain": [
       "0.9415204678362573"
      ]
     },
     "execution_count": 17,
     "metadata": {},
     "output_type": "execute_result"
    }
   ],
   "source": [
    "y_pred = LR.predict(X_test_PCA)\n",
    "y_true = y_test\n",
    "metrics.accuracy_score (y_true, y_pred)"
   ]
  },
  {
   "cell_type": "markdown",
   "metadata": {},
   "source": [
    "## try regression model instead classifier model on the same dataset"
   ]
  },
  {
   "cell_type": "code",
   "execution_count": 33,
   "metadata": {},
   "outputs": [
    {
     "data": {
      "text/plain": [
       "LinearRegression()"
      ]
     },
     "execution_count": 33,
     "metadata": {},
     "output_type": "execute_result"
    }
   ],
   "source": [
    "from sklearn.linear_model import LinearRegression\n",
    "LiR = LinearRegression()\n",
    "LiR.fit(X_train_PCA, y_train)"
   ]
  },
  {
   "cell_type": "code",
   "execution_count": 35,
   "metadata": {},
   "outputs": [
    {
     "data": {
      "text/plain": [
       "0.7248717036706707"
      ]
     },
     "execution_count": 35,
     "metadata": {},
     "output_type": "execute_result"
    }
   ],
   "source": [
    "# import regression metrics \n",
    "from sklearn.metrics import r2_score\n",
    "y_pred = LiR.predict(X_test_PCA)\n",
    "y_true = y_test\n",
    "r2_score (y_true, y_pred)"
   ]
  },
  {
   "cell_type": "markdown",
   "metadata": {},
   "source": [
    "## Use boston dataset"
   ]
  },
  {
   "cell_type": "code",
   "execution_count": 3,
   "metadata": {},
   "outputs": [],
   "source": [
    "data_url = \"http://lib.stat.cmu.edu/datasets/boston\"\n",
    "df = pd.read_csv(data_url, sep=\"\\s+\", skiprows=22, header = None)\n",
    "data = np.hstack([df.values[::2, :], df.values[1::2, :2]])\n",
    "target = df.values[1::2, 2]\n",
    "X_1 = data\n",
    "y = target"
   ]
  },
  {
   "cell_type": "code",
   "execution_count": 4,
   "metadata": {},
   "outputs": [],
   "source": [
    "# data preprocessing - handling missing data\n",
    "from sklearn.impute import SimpleImputer\n",
    "imr = SimpleImputer(missing_values=np.nan, strategy='mean')\n",
    "X = imr.fit_transform(X_1)"
   ]
  },
  {
   "cell_type": "code",
   "execution_count": 9,
   "metadata": {},
   "outputs": [],
   "source": [
    "# split dataset into train and test dataset\n",
    "from sklearn.model_selection import train_test_split\n",
    "X_train, X_test, y_train, y_test = train_test_split(X, y, test_size=0.3, random_state=1)\n",
    "# scaling features\n",
    "X_train_scaled = SC.fit_transform(X_train)\n",
    "X_test_scaled = SC.transform(X_test)\n"
   ]
  },
  {
   "cell_type": "code",
   "execution_count": 87,
   "metadata": {},
   "outputs": [],
   "source": [
    "# selecting features (reduce feature dimensions)\n",
    "pca = PCA(n_components=8, svd_solver='auto')\n",
    "X_train_PCA = pca.fit_transform(X_train_scaled)\n",
    "X_test_PCA = pca.transform(X_test_scaled)"
   ]
  },
  {
   "cell_type": "code",
   "execution_count": 88,
   "metadata": {},
   "outputs": [
    {
     "data": {
      "text/plain": [
       "array([27.95047477, 27.33686019, 18.3059829 , 23.22911714, 17.92570695,\n",
       "       20.43514194, 27.68609304, 18.13235363, 23.10097778, 26.269002  ,\n",
       "       25.39854503, 29.89110657, 21.03380664, 23.46613592, 21.77778125,\n",
       "       17.58557666, 17.90954768, 38.27469183, 27.48296397, 12.49776112,\n",
       "       20.48118681, 18.88405656, 25.12527742, 26.07543237, 28.63159976,\n",
       "       10.14310235, 14.00840924, 21.49252154, 35.73280866, 13.44200502,\n",
       "       25.5149589 , 15.01941195, 38.46137394, 19.09318254, 25.64037491,\n",
       "       21.70407485, 18.31971002, 29.73490105,  6.30665415, 19.16783558,\n",
       "       28.0802553 , 24.28952197, 27.55200616, 14.35236455, 17.87904955,\n",
       "       16.28133984, 39.79077028, 17.67240539, 24.39539303, 18.70554296,\n",
       "       25.18572112, 24.53184152, 26.36491748, 25.36139975,  6.69419039,\n",
       "       23.93373363, 11.72570976, 26.09926775, 17.76633884, 36.5538239 ,\n",
       "       19.69030797, 27.40530831, 15.45812632, 16.20714841, 13.01560503,\n",
       "       30.95221706, 37.50512072, 27.69436191, 24.8772997 , 24.04879086,\n",
       "       25.73721413,  6.61116736, 14.0426314 , 21.77390459, 19.35680783,\n",
       "       20.74244479, 31.57503911, 27.99952608, 28.80473828, 30.37428604,\n",
       "       19.1075418 , 23.22099695, 33.55712499, 15.07881851, 24.48725491,\n",
       "       29.27798758, 17.70186951, 27.20357083, 19.73255315, 17.87552519,\n",
       "       26.5154135 , 42.23593644, 16.46573354, 24.09779704, 16.13004001,\n",
       "       22.92710814, 23.62320252, 25.79447167, 36.61262513, 21.03147753,\n",
       "       15.01990721, 19.03988565, 27.23516023, 23.53475392,  8.55409738,\n",
       "       22.33291667, 12.6015966 , 30.99586146, 23.05449758, 25.41376722,\n",
       "       38.25337512, 26.86449388, 14.38742491, 30.96688871, 34.32336078,\n",
       "       34.31342505, 21.94072584, 17.39570494, 31.7395983 , 39.72403079,\n",
       "       24.60617281, 16.36338198, 30.52287725, 19.99623131, 26.88092558,\n",
       "       21.62139749, 27.03301352, 21.59890276, 20.46320011, 28.14799009,\n",
       "       21.29578338, 24.53369523, 26.47156967,  9.71962591, 25.52619481,\n",
       "       30.63957042, 18.60147985, 13.14972667, 32.55346995, 20.95289486,\n",
       "       19.73997236, 16.58050194, 15.86260865, 28.77133342, 29.17203984,\n",
       "       22.54736553, 25.29882708, 15.15405324, 27.74425112, 17.4897642 ,\n",
       "       33.60104838, 14.19070816])"
      ]
     },
     "execution_count": 88,
     "metadata": {},
     "output_type": "execute_result"
    }
   ],
   "source": [
    "# fit LinearRegression trainig model\n",
    "from sklearn.linear_model import LinearRegression\n",
    "LiR = LinearRegression()\n",
    "LiR.fit(X_train_PCA, y_train)\n",
    "# predicting with test data\n",
    "LiR.predict(X_test_PCA)"
   ]
  },
  {
   "cell_type": "code",
   "execution_count": 41,
   "metadata": {},
   "outputs": [
    {
     "data": {
      "text/plain": [
       "0.7713837173165807"
      ]
     },
     "execution_count": 41,
     "metadata": {},
     "output_type": "execute_result"
    }
   ],
   "source": [
    "# import regression metrics \n",
    "from sklearn.metrics import r2_score\n",
    "y_pred = LiR.predict(X_test_PCA)\n",
    "y_true = y_test\n",
    "r2_score (y_true, y_pred)"
   ]
  },
  {
   "cell_type": "markdown",
   "metadata": {},
   "source": [
    "## Polynomial Regression on Boston Datasets, interaction_only=True"
   ]
  },
  {
   "cell_type": "code",
   "execution_count": 89,
   "metadata": {},
   "outputs": [],
   "source": [
    "# import Polynomial Regression in data preprocessing phase\n",
    "from sklearn.preprocessing import PolynomialFeatures\n",
    "from sklearn.pipeline import Pipeline\n",
    "from sklearn.linear_model import LinearRegression\n",
    "model = Pipeline([('poly', PolynomialFeatures(interaction_only=True)),\n",
    "                    ('linear', LinearRegression(fit_intercept=False))])\n",
    "model.fit(X_train_PCA, y_train)\n",
    "y_pred = model.predict(X_test_PCA)\n",
    "y_true = y_test"
   ]
  },
  {
   "cell_type": "code",
   "execution_count": 90,
   "metadata": {},
   "outputs": [
    {
     "data": {
      "text/plain": [
       "0.8749566278752258"
      ]
     },
     "execution_count": 90,
     "metadata": {},
     "output_type": "execute_result"
    }
   ],
   "source": [
    "# import regression metrics \n",
    "from sklearn.metrics import r2_score\n",
    "r2_score (y_true, y_pred)"
   ]
  },
  {
   "cell_type": "markdown",
   "metadata": {},
   "source": [
    "## Handwriting digits recognition. Using datasets come along with scikit-learn. load_digits "
   ]
  },
  {
   "cell_type": "code",
   "execution_count": null,
   "metadata": {},
   "outputs": [],
   "source": [
    "from sklearn import svm, metrics\n",
    "from sklearn.model_selection import train_test_split\n",
    "digits = datasets.load_digits()"
   ]
  },
  {
   "cell_type": "code",
   "execution_count": 126,
   "metadata": {},
   "outputs": [
    {
     "data": {
      "image/png": "[encoded data removed]",
      "text/plain": [
       "<Figure size 432x288 with 8 Axes>"
      ]
     },
     "metadata": {
      "needs_background": "light"
     },
     "output_type": "display_data"
    }
   ],
   "source": [
    "# use matplotlib to show the images data\n",
    "_, axes = plt.subplots(2, 4)\n",
    "images_and_labels = list(zip(digits.images, digits.target))\n",
    "for ax, (image, label) in zip(axes[0, :], images_and_labels[:4]):\n",
    "    ax.set_axis_off()\n",
    "    ax.imshow(image, cmap=plt.cm.gray_r, interpolation='nearest')\n",
    "    ax.set_title('Training: %i' % label)"
   ]
  },
  {
   "cell_type": "code",
   "execution_count": 143,
   "metadata": {},
   "outputs": [],
   "source": [
    "# flatten the image data structure from 2d array to 1d array. Split flattened training data \n",
    "n_samples = len(digits.images)\n",
    "data = digits.images.reshape((n_samples, -1))\n",
    "X_train, X_test, y_train, y_test = train_test_split(\n",
    "    data, digits.target, test_size=0.5, shuffle=False, random_state = 1)"
   ]
  },
  {
   "cell_type": "code",
   "execution_count": 144,
   "metadata": {},
   "outputs": [],
   "source": [
    "classifier = svm.SVC(gamma = 0.001)\n",
    "classifier.fit(X_train, y_train)\n",
    "predicted = classifier.predict(X_test)"
   ]
  },
  {
   "cell_type": "code",
   "execution_count": 145,
   "metadata": {},
   "outputs": [
    {
     "name": "stdout",
     "output_type": "stream",
     "text": [
      "Classification report for classifier SVC(gamma=0.001):\n",
      "              precision    recall  f1-score   support\n",
      "\n",
      "           0       1.00      0.99      0.99        88\n",
      "           1       0.99      0.97      0.98        91\n",
      "           2       0.99      0.99      0.99        86\n",
      "           3       0.98      0.87      0.92        91\n",
      "           4       0.99      0.96      0.97        92\n",
      "           5       0.95      0.97      0.96        91\n",
      "           6       0.99      0.99      0.99        91\n",
      "           7       0.96      0.99      0.97        89\n",
      "           8       0.94      1.00      0.97        88\n",
      "           9       0.93      0.98      0.95        92\n",
      "\n",
      "    accuracy                           0.97       899\n",
      "   macro avg       0.97      0.97      0.97       899\n",
      "weighted avg       0.97      0.97      0.97       899\n",
      "\n",
      "\n"
     ]
    },
    {
     "name": "stderr",
     "output_type": "stream",
     "text": [
      "d:\\program files\\python310\\lib\\site-packages\\sklearn\\utils\\deprecation.py:87: FutureWarning: Function plot_confusion_matrix is deprecated; Function `plot_confusion_matrix` is deprecated in 1.0 and will be removed in 1.2. Use one of the class methods: ConfusionMatrixDisplay.from_predictions or ConfusionMatrixDisplay.from_estimator.\n",
      "  warnings.warn(msg, category=FutureWarning)\n"
     ]
    },
    {
     "name": "stdout",
     "output_type": "stream",
     "text": [
      "Confusion matrix:\n",
      "[[87  0  0  0  1  0  0  0  0  0]\n",
      " [ 0 88  1  0  0  0  0  0  1  1]\n",
      " [ 0  0 85  1  0  0  0  0  0  0]\n",
      " [ 0  0  0 79  0  3  0  4  5  0]\n",
      " [ 0  0  0  0 88  0  0  0  0  4]\n",
      " [ 0  0  0  0  0 88  1  0  0  2]\n",
      " [ 0  1  0  0  0  0 90  0  0  0]\n",
      " [ 0  0  0  0  0  1  0 88  0  0]\n",
      " [ 0  0  0  0  0  0  0  0 88  0]\n",
      " [ 0  0  0  1  0  1  0  0  0 90]]\n"
     ]
    },
    {
     "data": {
      "image/png": "[encoded data removed]",
      "text/plain": [
       "<Figure size 432x288 with 2 Axes>"
      ]
     },
     "metadata": {
      "needs_background": "light"
     },
     "output_type": "display_data"
    }
   ],
   "source": [
    "# Plot the predict result\n",
    "images_and_predictions = list(zip(digits.images[n_samples // 2:], predicted))\n",
    "for ax, (image, prediction) in zip(axes[1, :], images_and_predictions[:4]):\n",
    "    ax.set_axis_off()\n",
    "    ax.imshow(image, cmap=plt.cm.gray_r, interpolation='nearest')\n",
    "    ax.set_title('Prediction: %i' % prediction)\n",
    "\n",
    "print(\"Classification report for classifier %s:\\n%s\\n\"\n",
    "      % (classifier, metrics.classification_report(y_test, predicted)))\n",
    "disp = metrics.plot_confusion_matrix(classifier, X_test, y_test)\n",
    "disp.figure_.suptitle(\"Confusion Matrix\")\n",
    "print(\"Confusion matrix:\\n%s\" % disp.confusion_matrix)\n",
    "\n",
    "plt.show()"
   ]
  },
  {
   "cell_type": "code",
   "execution_count": 146,
   "metadata": {},
   "outputs": [
    {
     "data": {
      "text/plain": [
       "array([[ 0.,  0.,  5., ...,  0.,  0.,  0.],\n",
       "       [ 0.,  0.,  0., ..., 10.,  0.,  0.],\n",
       "       [ 0.,  0.,  0., ..., 16.,  9.,  0.],\n",
       "       ...,\n",
       "       [ 0.,  0.,  1., ...,  6.,  0.,  0.],\n",
       "       [ 0.,  0.,  2., ..., 12.,  0.,  0.],\n",
       "       [ 0.,  0., 10., ..., 12.,  1.,  0.]])"
      ]
     },
     "execution_count": 146,
     "metadata": {},
     "output_type": "execute_result"
    }
   ],
   "source": [
    "digits.data"
   ]
  },
  {
   "cell_type": "code",
   "execution_count": 147,
   "metadata": {},
   "outputs": [
    {
     "data": {
      "text/plain": [
       "array([[ 0.,  0.,  5., ...,  0.,  0.,  0.],\n",
       "       [ 0.,  0.,  0., ..., 10.,  0.,  0.],\n",
       "       [ 0.,  0.,  0., ..., 16.,  9.,  0.],\n",
       "       ...,\n",
       "       [ 0.,  0.,  1., ...,  6.,  0.,  0.],\n",
       "       [ 0.,  0.,  2., ..., 12.,  0.,  0.],\n",
       "       [ 0.,  0., 10., ..., 12.,  1.,  0.]])"
      ]
     },
     "execution_count": 147,
     "metadata": {},
     "output_type": "execute_result"
    }
   ],
   "source": [
    "data"
   ]
  },
  {
   "cell_type": "code",
   "execution_count": null,
   "metadata": {},
   "outputs": [],
   "source": []
  }
 ],
 "metadata": {
  "kernelspec": {
   "display_name": "Python 3.10.4 64-bit",
   "language": "python",
   "name": "python3"
  },
  "language_info": {
   "codemirror_mode": {
    "name": "ipython",
    "version": 3
   },
   "file_extension": ".py",
   "mimetype": "text/x-python",
   "name": "python",
   "nbconvert_exporter": "python",
   "pygments_lexer": "ipython3",
   "version": "3.10.4"
  },
  "orig_nbformat": 4,
  "vscode": {
   "interpreter": {
    "hash": "8f8ce8fa5d6f1ce72c1289d0d16a751c318bcf5961405d025c770420c0ce13de"
   }
  }
 },
 "nbformat": 4,
 "nbformat_minor": 2
}
